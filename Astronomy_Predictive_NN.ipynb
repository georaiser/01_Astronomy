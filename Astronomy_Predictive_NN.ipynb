{
 "cells": [
  {
   "cell_type": "markdown",
   "id": "backed-paper",
   "metadata": {},
   "source": [
    "## Original Astronomy Dataset #\n",
    "### Stars, Galaxies and Quasars ##\n",
    "https://www.sdss.org/dr17/\n",
    "http://skyserver.sdss.org/dr17/SearchTools/sql"
   ]
  },
  {
   "cell_type": "code",
   "execution_count": 1,
   "id": "passive-breeding",
   "metadata": {},
   "outputs": [],
   "source": [
    "# use solo cpu\n",
    "import os\n",
    "os.environ[\"CUDA_VISIBLE_DEVICES\"]=\"-1\"    \n",
    "import tensorflow as tf"
   ]
  },
  {
   "cell_type": "code",
   "execution_count": 2,
   "id": "empirical-server",
   "metadata": {},
   "outputs": [
    {
     "name": "stdout",
     "output_type": "stream",
     "text": [
      "[name: \"/device:CPU:0\"\n",
      "device_type: \"CPU\"\n",
      "memory_limit: 268435456\n",
      "locality {\n",
      "}\n",
      "incarnation: 7301745359248533190\n",
      "xla_global_id: -1\n",
      "]\n"
     ]
    }
   ],
   "source": [
    "from tensorflow.python.client import device_lib\n",
    "print(device_lib.list_local_devices())"
   ]
  },
  {
   "cell_type": "code",
   "execution_count": 3,
   "id": "alive-backing",
   "metadata": {},
   "outputs": [],
   "source": [
    "import warnings\n",
    "warnings.filterwarnings(\"ignore\")"
   ]
  },
  {
   "cell_type": "code",
   "execution_count": 4,
   "id": "killing-military",
   "metadata": {},
   "outputs": [],
   "source": [
    "import numpy as np\n",
    "import matplotlib.pyplot as plt\n",
    "import pandas as pd"
   ]
  },
  {
   "cell_type": "code",
   "execution_count": 5,
   "id": "corporate-median",
   "metadata": {},
   "outputs": [],
   "source": [
    "from tensorflow.keras import layers, models\n",
    "from tensorflow.keras.utils import to_categorical"
   ]
  },
  {
   "cell_type": "code",
   "execution_count": 6,
   "id": "dedicated-award",
   "metadata": {},
   "outputs": [],
   "source": [
    "from sklearn.model_selection import train_test_split\n",
    "from sklearn.preprocessing import LabelEncoder"
   ]
  },
  {
   "cell_type": "code",
   "execution_count": 7,
   "id": "former-rebound",
   "metadata": {},
   "outputs": [
    {
     "data": {
      "text/html": [
       "<div>\n",
       "<style scoped>\n",
       "    .dataframe tbody tr th:only-of-type {\n",
       "        vertical-align: middle;\n",
       "    }\n",
       "\n",
       "    .dataframe tbody tr th {\n",
       "        vertical-align: top;\n",
       "    }\n",
       "\n",
       "    .dataframe thead th {\n",
       "        text-align: right;\n",
       "    }\n",
       "</style>\n",
       "<table border=\"1\" class=\"dataframe\">\n",
       "  <thead>\n",
       "    <tr style=\"text-align: right;\">\n",
       "      <th></th>\n",
       "      <th>objid</th>\n",
       "      <th>ra</th>\n",
       "      <th>dec</th>\n",
       "      <th>u</th>\n",
       "      <th>g</th>\n",
       "      <th>r</th>\n",
       "      <th>i</th>\n",
       "      <th>z</th>\n",
       "      <th>redshift</th>\n",
       "      <th>class</th>\n",
       "    </tr>\n",
       "  </thead>\n",
       "  <tbody>\n",
       "    <tr>\n",
       "      <th>0</th>\n",
       "      <td>1237678598097404025</td>\n",
       "      <td>0.044032</td>\n",
       "      <td>0.035457</td>\n",
       "      <td>0.393903</td>\n",
       "      <td>0.352869</td>\n",
       "      <td>0.337332</td>\n",
       "      <td>0.331551</td>\n",
       "      <td>0.330089</td>\n",
       "      <td>0.000495</td>\n",
       "      <td>STAR</td>\n",
       "    </tr>\n",
       "    <tr>\n",
       "      <th>1</th>\n",
       "      <td>1237678598076366970</td>\n",
       "      <td>0.910465</td>\n",
       "      <td>0.030273</td>\n",
       "      <td>0.387076</td>\n",
       "      <td>0.348962</td>\n",
       "      <td>0.337407</td>\n",
       "      <td>0.333596</td>\n",
       "      <td>0.332157</td>\n",
       "      <td>0.000466</td>\n",
       "      <td>STAR</td>\n",
       "    </tr>\n",
       "  </tbody>\n",
       "</table>\n",
       "</div>"
      ],
      "text/plain": [
       "                 objid        ra       dec         u         g         r  \\\n",
       "0  1237678598097404025  0.044032  0.035457  0.393903  0.352869  0.337332   \n",
       "1  1237678598076366970  0.910465  0.030273  0.387076  0.348962  0.337407   \n",
       "\n",
       "          i         z  redshift class  \n",
       "0  0.331551  0.330089  0.000495  STAR  \n",
       "1  0.333596  0.332157  0.000466  STAR  "
      ]
     },
     "execution_count": 7,
     "metadata": {},
     "output_type": "execute_result"
    }
   ],
   "source": [
    "# Load Dataset\n",
    "df=pd.read_csv('clean_Skyserver_SQL1_5_2022 11_26_53 PM.csv', low_memory=False)\n",
    "df.head(2)"
   ]
  },
  {
   "cell_type": "code",
   "execution_count": 8,
   "id": "asian-friendship",
   "metadata": {},
   "outputs": [
    {
     "data": {
      "text/html": [
       "<div>\n",
       "<style scoped>\n",
       "    .dataframe tbody tr th:only-of-type {\n",
       "        vertical-align: middle;\n",
       "    }\n",
       "\n",
       "    .dataframe tbody tr th {\n",
       "        vertical-align: top;\n",
       "    }\n",
       "\n",
       "    .dataframe thead th {\n",
       "        text-align: right;\n",
       "    }\n",
       "</style>\n",
       "<table border=\"1\" class=\"dataframe\">\n",
       "  <thead>\n",
       "    <tr style=\"text-align: right;\">\n",
       "      <th></th>\n",
       "      <th>ra</th>\n",
       "      <th>dec</th>\n",
       "      <th>u</th>\n",
       "      <th>g</th>\n",
       "      <th>r</th>\n",
       "      <th>i</th>\n",
       "      <th>z</th>\n",
       "      <th>redshift</th>\n",
       "      <th>class</th>\n",
       "    </tr>\n",
       "  </thead>\n",
       "  <tbody>\n",
       "    <tr>\n",
       "      <th>0</th>\n",
       "      <td>0.044032</td>\n",
       "      <td>0.035457</td>\n",
       "      <td>0.393903</td>\n",
       "      <td>0.352869</td>\n",
       "      <td>0.337332</td>\n",
       "      <td>0.331551</td>\n",
       "      <td>0.330089</td>\n",
       "      <td>0.000495</td>\n",
       "      <td>STAR</td>\n",
       "    </tr>\n",
       "    <tr>\n",
       "      <th>1</th>\n",
       "      <td>0.910465</td>\n",
       "      <td>0.030273</td>\n",
       "      <td>0.387076</td>\n",
       "      <td>0.348962</td>\n",
       "      <td>0.337407</td>\n",
       "      <td>0.333596</td>\n",
       "      <td>0.332157</td>\n",
       "      <td>0.000466</td>\n",
       "      <td>STAR</td>\n",
       "    </tr>\n",
       "  </tbody>\n",
       "</table>\n",
       "</div>"
      ],
      "text/plain": [
       "         ra       dec         u         g         r         i         z  \\\n",
       "0  0.044032  0.035457  0.393903  0.352869  0.337332  0.331551  0.330089   \n",
       "1  0.910465  0.030273  0.387076  0.348962  0.337407  0.333596  0.332157   \n",
       "\n",
       "   redshift class  \n",
       "0  0.000495  STAR  \n",
       "1  0.000466  STAR  "
      ]
     },
     "execution_count": 8,
     "metadata": {},
     "output_type": "execute_result"
    }
   ],
   "source": [
    "df.drop(['objid'], axis=1, inplace =True)\n",
    "df.head(2)"
   ]
  },
  {
   "cell_type": "code",
   "execution_count": 9,
   "id": "executive-germany",
   "metadata": {},
   "outputs": [
    {
     "data": {
      "text/html": [
       "<div>\n",
       "<style scoped>\n",
       "    .dataframe tbody tr th:only-of-type {\n",
       "        vertical-align: middle;\n",
       "    }\n",
       "\n",
       "    .dataframe tbody tr th {\n",
       "        vertical-align: top;\n",
       "    }\n",
       "\n",
       "    .dataframe thead th {\n",
       "        text-align: right;\n",
       "    }\n",
       "</style>\n",
       "<table border=\"1\" class=\"dataframe\">\n",
       "  <thead>\n",
       "    <tr style=\"text-align: right;\">\n",
       "      <th></th>\n",
       "      <th>ra</th>\n",
       "      <th>dec</th>\n",
       "      <th>u</th>\n",
       "      <th>g</th>\n",
       "      <th>r</th>\n",
       "      <th>i</th>\n",
       "      <th>z</th>\n",
       "      <th>redshift</th>\n",
       "      <th>class</th>\n",
       "      <th>label_class</th>\n",
       "    </tr>\n",
       "  </thead>\n",
       "  <tbody>\n",
       "    <tr>\n",
       "      <th>0</th>\n",
       "      <td>0.044032</td>\n",
       "      <td>0.035457</td>\n",
       "      <td>0.393903</td>\n",
       "      <td>0.352869</td>\n",
       "      <td>0.337332</td>\n",
       "      <td>0.331551</td>\n",
       "      <td>0.330089</td>\n",
       "      <td>0.000495</td>\n",
       "      <td>STAR</td>\n",
       "      <td>2</td>\n",
       "    </tr>\n",
       "    <tr>\n",
       "      <th>1</th>\n",
       "      <td>0.910465</td>\n",
       "      <td>0.030273</td>\n",
       "      <td>0.387076</td>\n",
       "      <td>0.348962</td>\n",
       "      <td>0.337407</td>\n",
       "      <td>0.333596</td>\n",
       "      <td>0.332157</td>\n",
       "      <td>0.000466</td>\n",
       "      <td>STAR</td>\n",
       "      <td>2</td>\n",
       "    </tr>\n",
       "    <tr>\n",
       "      <th>2</th>\n",
       "      <td>0.030819</td>\n",
       "      <td>0.132237</td>\n",
       "      <td>0.447280</td>\n",
       "      <td>0.406822</td>\n",
       "      <td>0.392707</td>\n",
       "      <td>0.386791</td>\n",
       "      <td>0.384882</td>\n",
       "      <td>0.000450</td>\n",
       "      <td>STAR</td>\n",
       "      <td>2</td>\n",
       "    </tr>\n",
       "  </tbody>\n",
       "</table>\n",
       "</div>"
      ],
      "text/plain": [
       "         ra       dec         u         g         r         i         z  \\\n",
       "0  0.044032  0.035457  0.393903  0.352869  0.337332  0.331551  0.330089   \n",
       "1  0.910465  0.030273  0.387076  0.348962  0.337407  0.333596  0.332157   \n",
       "2  0.030819  0.132237  0.447280  0.406822  0.392707  0.386791  0.384882   \n",
       "\n",
       "   redshift class  label_class  \n",
       "0  0.000495  STAR            2  \n",
       "1  0.000466  STAR            2  \n",
       "2  0.000450  STAR            2  "
      ]
     },
     "execution_count": 9,
     "metadata": {},
     "output_type": "execute_result"
    }
   ],
   "source": [
    "# label encoder\n",
    "label_class = LabelEncoder()\n",
    "df['label_class'] = label_class.fit_transform(df['class'])\n",
    "df.head(3)"
   ]
  },
  {
   "cell_type": "code",
   "execution_count": 10,
   "id": "noticed-mortgage",
   "metadata": {},
   "outputs": [],
   "source": [
    "# train_test_split\n",
    "X = df.drop(['class', 'label_class'], axis=1, inplace =False).values\n",
    "y = df['label_class'].values"
   ]
  },
  {
   "cell_type": "code",
   "execution_count": 11,
   "id": "failing-bargain",
   "metadata": {},
   "outputs": [],
   "source": [
    "# label to categorical tensorflow\n",
    "y = to_categorical(y)"
   ]
  },
  {
   "cell_type": "code",
   "execution_count": 12,
   "id": "sized-suicide",
   "metadata": {},
   "outputs": [
    {
     "data": {
      "text/plain": [
       "array([0., 0., 1.], dtype=float32)"
      ]
     },
     "execution_count": 12,
     "metadata": {},
     "output_type": "execute_result"
    }
   ],
   "source": [
    "y[0]"
   ]
  },
  {
   "cell_type": "code",
   "execution_count": 13,
   "id": "vulnerable-birmingham",
   "metadata": {},
   "outputs": [],
   "source": [
    "X_train, X_test, y_train, y_test = train_test_split(X, y, test_size=0.20, random_state=42)"
   ]
  },
  {
   "cell_type": "code",
   "execution_count": 14,
   "id": "sacred-minister",
   "metadata": {},
   "outputs": [],
   "source": [
    "X_train, X_val, y_train, y_val = train_test_split(X_train, y_train, test_size=0.20, random_state=42)"
   ]
  },
  {
   "cell_type": "code",
   "execution_count": 15,
   "id": "focal-browser",
   "metadata": {},
   "outputs": [
    {
     "name": "stdout",
     "output_type": "stream",
     "text": [
      "(64000, 8)\n",
      "(64000, 3)\n"
     ]
    }
   ],
   "source": [
    "print(X_train.shape)\n",
    "print(y_train.shape)"
   ]
  },
  {
   "cell_type": "code",
   "execution_count": 16,
   "id": "latter-friday",
   "metadata": {},
   "outputs": [],
   "source": [
    "# make the model\n",
    "model = models.Sequential()\n",
    "model.add(layers.Dense(64,activation='relu', input_shape=(8,)))\n",
    "model.add(layers.Dropout(0.1))\n",
    "model.add(layers.Dense(32,activation='relu'))\n",
    "model.add(layers.Dropout(0.1))\n",
    "model.add(layers.Dense(3,activation='softmax'))"
   ]
  },
  {
   "cell_type": "code",
   "execution_count": 17,
   "id": "improving-greeting",
   "metadata": {},
   "outputs": [],
   "source": [
    "# compile the model\n",
    "model.compile(optimizer='rmsprop',\n",
    "              loss='categorical_crossentropy',\n",
    "              metrics=['accuracy'])"
   ]
  },
  {
   "cell_type": "code",
   "execution_count": 18,
   "id": "celtic-short",
   "metadata": {},
   "outputs": [
    {
     "name": "stdout",
     "output_type": "stream",
     "text": [
      "Epoch 1/20\n",
      "125/125 [==============================] - 1s 3ms/step - loss: 0.8853 - accuracy: 0.5479 - val_loss: 0.7559 - val_accuracy: 0.6376\n",
      "Epoch 2/20\n",
      "125/125 [==============================] - 0s 2ms/step - loss: 0.6996 - accuracy: 0.6453 - val_loss: 0.6428 - val_accuracy: 0.6746\n",
      "Epoch 3/20\n",
      "125/125 [==============================] - 0s 2ms/step - loss: 0.6225 - accuracy: 0.6915 - val_loss: 0.5805 - val_accuracy: 0.7210\n",
      "Epoch 4/20\n",
      "125/125 [==============================] - 0s 2ms/step - loss: 0.5623 - accuracy: 0.7416 - val_loss: 0.5058 - val_accuracy: 0.8129\n",
      "Epoch 5/20\n",
      "125/125 [==============================] - 0s 2ms/step - loss: 0.4939 - accuracy: 0.7924 - val_loss: 0.4328 - val_accuracy: 0.8524\n",
      "Epoch 6/20\n",
      "125/125 [==============================] - 0s 2ms/step - loss: 0.4328 - accuracy: 0.8271 - val_loss: 0.3723 - val_accuracy: 0.8721\n",
      "Epoch 7/20\n",
      "125/125 [==============================] - 0s 2ms/step - loss: 0.3827 - accuracy: 0.8515 - val_loss: 0.3330 - val_accuracy: 0.8854\n",
      "Epoch 8/20\n",
      "125/125 [==============================] - 0s 2ms/step - loss: 0.3387 - accuracy: 0.8719 - val_loss: 0.2976 - val_accuracy: 0.8961\n",
      "Epoch 9/20\n",
      "125/125 [==============================] - 0s 2ms/step - loss: 0.3011 - accuracy: 0.8891 - val_loss: 0.2763 - val_accuracy: 0.8986\n",
      "Epoch 10/20\n",
      "125/125 [==============================] - 0s 2ms/step - loss: 0.2711 - accuracy: 0.9034 - val_loss: 0.2309 - val_accuracy: 0.9211\n",
      "Epoch 11/20\n",
      "125/125 [==============================] - 0s 2ms/step - loss: 0.2445 - accuracy: 0.9141 - val_loss: 0.2073 - val_accuracy: 0.9384\n",
      "Epoch 12/20\n",
      "125/125 [==============================] - 0s 2ms/step - loss: 0.2225 - accuracy: 0.9249 - val_loss: 0.1803 - val_accuracy: 0.9428\n",
      "Epoch 13/20\n",
      "125/125 [==============================] - 0s 2ms/step - loss: 0.2031 - accuracy: 0.9333 - val_loss: 0.2095 - val_accuracy: 0.9316\n",
      "Epoch 14/20\n",
      "125/125 [==============================] - 0s 2ms/step - loss: 0.1855 - accuracy: 0.9408 - val_loss: 0.1669 - val_accuracy: 0.9576\n",
      "Epoch 15/20\n",
      "125/125 [==============================] - 0s 2ms/step - loss: 0.1705 - accuracy: 0.9477 - val_loss: 0.1348 - val_accuracy: 0.9653\n",
      "Epoch 16/20\n",
      "125/125 [==============================] - 0s 2ms/step - loss: 0.1557 - accuracy: 0.9539 - val_loss: 0.1241 - val_accuracy: 0.9662\n",
      "Epoch 17/20\n",
      "125/125 [==============================] - 0s 2ms/step - loss: 0.1466 - accuracy: 0.9581 - val_loss: 0.1532 - val_accuracy: 0.9655\n",
      "Epoch 18/20\n",
      "125/125 [==============================] - 0s 2ms/step - loss: 0.1396 - accuracy: 0.9603 - val_loss: 0.1164 - val_accuracy: 0.9664\n",
      "Epoch 19/20\n",
      "125/125 [==============================] - 0s 2ms/step - loss: 0.1305 - accuracy: 0.9638 - val_loss: 0.1045 - val_accuracy: 0.9719\n",
      "Epoch 20/20\n",
      "125/125 [==============================] - 0s 2ms/step - loss: 0.1230 - accuracy: 0.9665 - val_loss: 0.1265 - val_accuracy: 0.9609\n"
     ]
    }
   ],
   "source": [
    "history = model.fit(X_train, y_train, epochs=20, batch_size=512, validation_data=(X_val,y_val))"
   ]
  },
  {
   "cell_type": "code",
   "execution_count": 19,
   "id": "western-recovery",
   "metadata": {},
   "outputs": [
    {
     "data": {
      "image/png": "[encoded data removed]",
      "text/plain": [
       "<Figure size 720x720 with 1 Axes>"
      ]
     },
     "metadata": {
      "needs_background": "light"
     },
     "output_type": "display_data"
    }
   ],
   "source": [
    "history_dict = history.history\n",
    "loss_values = history_dict['loss']\n",
    "val_loss_values = history_dict['val_loss']\n",
    "\n",
    "fig = plt.figure(figsize=(10,10))\n",
    "epoch = range(1,len(loss_values)+1)\n",
    "plt.plot(epoch,loss_values, '--',label='training')\n",
    "plt.plot(epoch,val_loss_values, '--',label='val')\n",
    "plt.legend()\n",
    "plt.show()"
   ]
  },
  {
   "cell_type": "code",
   "execution_count": 20,
   "id": "incident-twins",
   "metadata": {
    "scrolled": true
   },
   "outputs": [
    {
     "name": "stdout",
     "output_type": "stream",
     "text": [
      "625/625 [==============================] - 1s 1ms/step - loss: 0.1281 - accuracy: 0.9590\n"
     ]
    },
    {
     "data": {
      "text/plain": [
       "[0.12812674045562744, 0.9589999914169312]"
      ]
     },
     "execution_count": 20,
     "metadata": {},
     "output_type": "execute_result"
    }
   ],
   "source": [
    "model.evaluate(X_test,y_test)"
   ]
  },
  {
   "cell_type": "code",
   "execution_count": 21,
   "id": "revolutionary-charter",
   "metadata": {},
   "outputs": [],
   "source": [
    "predictions = model.predict(X_test)"
   ]
  },
  {
   "cell_type": "code",
   "execution_count": 22,
   "id": "invalid-cover",
   "metadata": {},
   "outputs": [
    {
     "data": {
      "text/plain": [
       "array([9.8465204e-01, 1.4795579e-02, 5.5242528e-04], dtype=float32)"
      ]
     },
     "execution_count": 22,
     "metadata": {},
     "output_type": "execute_result"
    }
   ],
   "source": [
    "predictions[0]"
   ]
  }
 ],
 "metadata": {
  "kernelspec": {
   "display_name": "Python 3",
   "language": "python",
   "name": "python3"
  },
  "language_info": {
   "codemirror_mode": {
    "name": "ipython",
    "version": 3
   },
   "file_extension": ".py",
   "mimetype": "text/x-python",
   "name": "python",
   "nbconvert_exporter": "python",
   "pygments_lexer": "ipython3",
   "version": "3.9.7"
  }
 },
 "nbformat": 4,
 "nbformat_minor": 5
}
