{
 "cells": [
  {
   "cell_type": "markdown",
   "id": "backed-paper",
   "metadata": {},
   "source": [
    "## Original Astronomy Dataset #\n",
    "### Stars, Galaxies and Quasars ##\n",
    "https://www.sdss.org/dr17/\n",
    "http://skyserver.sdss.org/dr17/SearchTools/sql"
   ]
  },
  {
   "cell_type": "code",
   "execution_count": 1,
   "id": "passive-breeding",
   "metadata": {},
   "outputs": [],
   "source": [
    "# use solo cpu\n",
    "import os\n",
    "os.environ[\"CUDA_VISIBLE_DEVICES\"]=\"-1\"    \n",
    "import tensorflow as tf"
   ]
  },
  {
   "cell_type": "code",
   "execution_count": 2,
   "id": "empirical-server",
   "metadata": {},
   "outputs": [
    {
     "name": "stdout",
     "output_type": "stream",
     "text": [
      "[name: \"/device:CPU:0\"\n",
      "device_type: \"CPU\"\n",
      "memory_limit: 268435456\n",
      "locality {\n",
      "}\n",
      "incarnation: 5626663358595659212\n",
      "xla_global_id: -1\n",
      "]\n"
     ]
    }
   ],
   "source": [
    "from tensorflow.python.client import device_lib\n",
    "print(device_lib.list_local_devices())"
   ]
  },
  {
   "cell_type": "code",
   "execution_count": 3,
   "id": "alive-backing",
   "metadata": {},
   "outputs": [],
   "source": [
    "import warnings\n",
    "warnings.filterwarnings(\"ignore\")"
   ]
  },
  {
   "cell_type": "code",
   "execution_count": 4,
   "id": "killing-military",
   "metadata": {},
   "outputs": [],
   "source": [
    "import numpy as np\n",
    "import matplotlib.pyplot as plt\n",
    "import pandas as pd"
   ]
  },
  {
   "cell_type": "code",
   "execution_count": 5,
   "id": "corporate-median",
   "metadata": {},
   "outputs": [],
   "source": [
    "from tensorflow.keras import layers, models\n",
    "from tensorflow.keras.utils import to_categorical\n",
    "from tensorflow.keras.callbacks import EarlyStopping, ModelCheckpoint"
   ]
  },
  {
   "cell_type": "code",
   "execution_count": 6,
   "id": "dedicated-award",
   "metadata": {},
   "outputs": [],
   "source": [
    "from sklearn.model_selection import train_test_split\n",
    "from sklearn.preprocessing import LabelEncoder"
   ]
  },
  {
   "cell_type": "code",
   "execution_count": 7,
   "id": "former-rebound",
   "metadata": {},
   "outputs": [
    {
     "data": {
      "text/html": [
       "<div>\n",
       "<style scoped>\n",
       "    .dataframe tbody tr th:only-of-type {\n",
       "        vertical-align: middle;\n",
       "    }\n",
       "\n",
       "    .dataframe tbody tr th {\n",
       "        vertical-align: top;\n",
       "    }\n",
       "\n",
       "    .dataframe thead th {\n",
       "        text-align: right;\n",
       "    }\n",
       "</style>\n",
       "<table border=\"1\" class=\"dataframe\">\n",
       "  <thead>\n",
       "    <tr style=\"text-align: right;\">\n",
       "      <th></th>\n",
       "      <th>objid</th>\n",
       "      <th>ra</th>\n",
       "      <th>dec</th>\n",
       "      <th>u</th>\n",
       "      <th>g</th>\n",
       "      <th>r</th>\n",
       "      <th>i</th>\n",
       "      <th>z</th>\n",
       "      <th>redshift</th>\n",
       "      <th>class</th>\n",
       "    </tr>\n",
       "  </thead>\n",
       "  <tbody>\n",
       "    <tr>\n",
       "      <th>0</th>\n",
       "      <td>1237678598097404025</td>\n",
       "      <td>0.044032</td>\n",
       "      <td>0.035457</td>\n",
       "      <td>0.393903</td>\n",
       "      <td>0.352869</td>\n",
       "      <td>0.337332</td>\n",
       "      <td>0.331551</td>\n",
       "      <td>0.330089</td>\n",
       "      <td>0.000495</td>\n",
       "      <td>STAR</td>\n",
       "    </tr>\n",
       "    <tr>\n",
       "      <th>1</th>\n",
       "      <td>1237678598076366970</td>\n",
       "      <td>0.910465</td>\n",
       "      <td>0.030273</td>\n",
       "      <td>0.387076</td>\n",
       "      <td>0.348962</td>\n",
       "      <td>0.337407</td>\n",
       "      <td>0.333596</td>\n",
       "      <td>0.332157</td>\n",
       "      <td>0.000466</td>\n",
       "      <td>STAR</td>\n",
       "    </tr>\n",
       "  </tbody>\n",
       "</table>\n",
       "</div>"
      ],
      "text/plain": [
       "                 objid        ra       dec         u         g         r  \\\n",
       "0  1237678598097404025  0.044032  0.035457  0.393903  0.352869  0.337332   \n",
       "1  1237678598076366970  0.910465  0.030273  0.387076  0.348962  0.337407   \n",
       "\n",
       "          i         z  redshift class  \n",
       "0  0.331551  0.330089  0.000495  STAR  \n",
       "1  0.333596  0.332157  0.000466  STAR  "
      ]
     },
     "execution_count": 7,
     "metadata": {},
     "output_type": "execute_result"
    }
   ],
   "source": [
    "# Load Dataset\n",
    "df=pd.read_csv('clean_Skyserver_SQL1_5_2022 11_26_53 PM.csv', low_memory=False)\n",
    "df.head(2)"
   ]
  },
  {
   "cell_type": "code",
   "execution_count": 8,
   "id": "asian-friendship",
   "metadata": {},
   "outputs": [
    {
     "data": {
      "text/html": [
       "<div>\n",
       "<style scoped>\n",
       "    .dataframe tbody tr th:only-of-type {\n",
       "        vertical-align: middle;\n",
       "    }\n",
       "\n",
       "    .dataframe tbody tr th {\n",
       "        vertical-align: top;\n",
       "    }\n",
       "\n",
       "    .dataframe thead th {\n",
       "        text-align: right;\n",
       "    }\n",
       "</style>\n",
       "<table border=\"1\" class=\"dataframe\">\n",
       "  <thead>\n",
       "    <tr style=\"text-align: right;\">\n",
       "      <th></th>\n",
       "      <th>ra</th>\n",
       "      <th>dec</th>\n",
       "      <th>u</th>\n",
       "      <th>g</th>\n",
       "      <th>r</th>\n",
       "      <th>i</th>\n",
       "      <th>z</th>\n",
       "      <th>redshift</th>\n",
       "      <th>class</th>\n",
       "    </tr>\n",
       "  </thead>\n",
       "  <tbody>\n",
       "    <tr>\n",
       "      <th>0</th>\n",
       "      <td>0.044032</td>\n",
       "      <td>0.035457</td>\n",
       "      <td>0.393903</td>\n",
       "      <td>0.352869</td>\n",
       "      <td>0.337332</td>\n",
       "      <td>0.331551</td>\n",
       "      <td>0.330089</td>\n",
       "      <td>0.000495</td>\n",
       "      <td>STAR</td>\n",
       "    </tr>\n",
       "    <tr>\n",
       "      <th>1</th>\n",
       "      <td>0.910465</td>\n",
       "      <td>0.030273</td>\n",
       "      <td>0.387076</td>\n",
       "      <td>0.348962</td>\n",
       "      <td>0.337407</td>\n",
       "      <td>0.333596</td>\n",
       "      <td>0.332157</td>\n",
       "      <td>0.000466</td>\n",
       "      <td>STAR</td>\n",
       "    </tr>\n",
       "  </tbody>\n",
       "</table>\n",
       "</div>"
      ],
      "text/plain": [
       "         ra       dec         u         g         r         i         z  \\\n",
       "0  0.044032  0.035457  0.393903  0.352869  0.337332  0.331551  0.330089   \n",
       "1  0.910465  0.030273  0.387076  0.348962  0.337407  0.333596  0.332157   \n",
       "\n",
       "   redshift class  \n",
       "0  0.000495  STAR  \n",
       "1  0.000466  STAR  "
      ]
     },
     "execution_count": 8,
     "metadata": {},
     "output_type": "execute_result"
    }
   ],
   "source": [
    "df.drop(['objid'], axis=1, inplace =True)\n",
    "df.head(2)"
   ]
  },
  {
   "cell_type": "code",
   "execution_count": 9,
   "id": "executive-germany",
   "metadata": {},
   "outputs": [
    {
     "data": {
      "text/html": [
       "<div>\n",
       "<style scoped>\n",
       "    .dataframe tbody tr th:only-of-type {\n",
       "        vertical-align: middle;\n",
       "    }\n",
       "\n",
       "    .dataframe tbody tr th {\n",
       "        vertical-align: top;\n",
       "    }\n",
       "\n",
       "    .dataframe thead th {\n",
       "        text-align: right;\n",
       "    }\n",
       "</style>\n",
       "<table border=\"1\" class=\"dataframe\">\n",
       "  <thead>\n",
       "    <tr style=\"text-align: right;\">\n",
       "      <th></th>\n",
       "      <th>ra</th>\n",
       "      <th>dec</th>\n",
       "      <th>u</th>\n",
       "      <th>g</th>\n",
       "      <th>r</th>\n",
       "      <th>i</th>\n",
       "      <th>z</th>\n",
       "      <th>redshift</th>\n",
       "      <th>class</th>\n",
       "      <th>label_class</th>\n",
       "    </tr>\n",
       "  </thead>\n",
       "  <tbody>\n",
       "    <tr>\n",
       "      <th>0</th>\n",
       "      <td>0.044032</td>\n",
       "      <td>0.035457</td>\n",
       "      <td>0.393903</td>\n",
       "      <td>0.352869</td>\n",
       "      <td>0.337332</td>\n",
       "      <td>0.331551</td>\n",
       "      <td>0.330089</td>\n",
       "      <td>0.000495</td>\n",
       "      <td>STAR</td>\n",
       "      <td>2</td>\n",
       "    </tr>\n",
       "    <tr>\n",
       "      <th>1</th>\n",
       "      <td>0.910465</td>\n",
       "      <td>0.030273</td>\n",
       "      <td>0.387076</td>\n",
       "      <td>0.348962</td>\n",
       "      <td>0.337407</td>\n",
       "      <td>0.333596</td>\n",
       "      <td>0.332157</td>\n",
       "      <td>0.000466</td>\n",
       "      <td>STAR</td>\n",
       "      <td>2</td>\n",
       "    </tr>\n",
       "    <tr>\n",
       "      <th>2</th>\n",
       "      <td>0.030819</td>\n",
       "      <td>0.132237</td>\n",
       "      <td>0.447280</td>\n",
       "      <td>0.406822</td>\n",
       "      <td>0.392707</td>\n",
       "      <td>0.386791</td>\n",
       "      <td>0.384882</td>\n",
       "      <td>0.000450</td>\n",
       "      <td>STAR</td>\n",
       "      <td>2</td>\n",
       "    </tr>\n",
       "  </tbody>\n",
       "</table>\n",
       "</div>"
      ],
      "text/plain": [
       "         ra       dec         u         g         r         i         z  \\\n",
       "0  0.044032  0.035457  0.393903  0.352869  0.337332  0.331551  0.330089   \n",
       "1  0.910465  0.030273  0.387076  0.348962  0.337407  0.333596  0.332157   \n",
       "2  0.030819  0.132237  0.447280  0.406822  0.392707  0.386791  0.384882   \n",
       "\n",
       "   redshift class  label_class  \n",
       "0  0.000495  STAR            2  \n",
       "1  0.000466  STAR            2  \n",
       "2  0.000450  STAR            2  "
      ]
     },
     "execution_count": 9,
     "metadata": {},
     "output_type": "execute_result"
    }
   ],
   "source": [
    "# label encoder\n",
    "label_class = LabelEncoder()\n",
    "df['label_class'] = label_class.fit_transform(df['class'])\n",
    "df.head(3)"
   ]
  },
  {
   "cell_type": "code",
   "execution_count": 10,
   "id": "noticed-mortgage",
   "metadata": {},
   "outputs": [],
   "source": [
    "# train_test_split\n",
    "X = df.drop(['class', 'label_class'], axis=1, inplace =False).values\n",
    "y = df['label_class'].values"
   ]
  },
  {
   "cell_type": "code",
   "execution_count": 11,
   "id": "failing-bargain",
   "metadata": {},
   "outputs": [],
   "source": [
    "# label to categorical tensorflow\n",
    "y = to_categorical(y)"
   ]
  },
  {
   "cell_type": "code",
   "execution_count": 12,
   "id": "sized-suicide",
   "metadata": {},
   "outputs": [
    {
     "data": {
      "text/plain": [
       "array([0., 0., 1.], dtype=float32)"
      ]
     },
     "execution_count": 12,
     "metadata": {},
     "output_type": "execute_result"
    }
   ],
   "source": [
    "y[0]"
   ]
  },
  {
   "cell_type": "code",
   "execution_count": 13,
   "id": "vulnerable-birmingham",
   "metadata": {},
   "outputs": [],
   "source": [
    "X_train, X_test, y_train, y_test = train_test_split(X, y, test_size=0.20, random_state=42)"
   ]
  },
  {
   "cell_type": "code",
   "execution_count": 14,
   "id": "sacred-minister",
   "metadata": {},
   "outputs": [],
   "source": [
    "X_train, X_val, y_train, y_val = train_test_split(X_train, y_train, test_size=0.20, random_state=42)"
   ]
  },
  {
   "cell_type": "code",
   "execution_count": 15,
   "id": "focal-browser",
   "metadata": {},
   "outputs": [
    {
     "name": "stdout",
     "output_type": "stream",
     "text": [
      "(64000, 8)\n",
      "(64000, 3)\n"
     ]
    }
   ],
   "source": [
    "print(X_train.shape)\n",
    "print(y_train.shape)"
   ]
  },
  {
   "cell_type": "code",
   "execution_count": 16,
   "id": "latter-friday",
   "metadata": {},
   "outputs": [],
   "source": [
    "# make the model\n",
    "model = models.Sequential()\n",
    "model.add(layers.Dense(64,activation='relu', input_shape=(8,)))\n",
    "model.add(layers.Dropout(0.2))\n",
    "model.add(layers.Dense(32,activation='relu'))\n",
    "model.add(layers.Dropout(0.1))\n",
    "model.add(layers.Dense(3,activation='softmax'))"
   ]
  },
  {
   "cell_type": "code",
   "execution_count": 17,
   "id": "improving-greeting",
   "metadata": {},
   "outputs": [],
   "source": [
    "# compile the model\n",
    "model.compile(optimizer='rmsprop',\n",
    "              loss='categorical_crossentropy',\n",
    "              metrics=['accuracy'])"
   ]
  },
  {
   "cell_type": "code",
   "execution_count": 18,
   "id": "entertaining-journalist",
   "metadata": {},
   "outputs": [],
   "source": [
    "# early_stop\n",
    "early_stop = EarlyStopping(monitor='val_loss', patience=2)"
   ]
  },
  {
   "cell_type": "code",
   "execution_count": 19,
   "id": "decreased-migration",
   "metadata": {},
   "outputs": [],
   "source": [
    "# save best model\n",
    "modelCheckpoint = ModelCheckpoint('astronomy_model_NN.h5', save_best_only = True) "
   ]
  },
  {
   "cell_type": "code",
   "execution_count": 20,
   "id": "celtic-short",
   "metadata": {},
   "outputs": [
    {
     "name": "stdout",
     "output_type": "stream",
     "text": [
      "Epoch 1/30\n",
      "125/125 [==============================] - 1s 6ms/step - loss: 0.9386 - accuracy: 0.5048 - val_loss: 0.8024 - val_accuracy: 0.5945\n",
      "Epoch 2/30\n",
      "125/125 [==============================] - 0s 3ms/step - loss: 0.7354 - accuracy: 0.6323 - val_loss: 0.6439 - val_accuracy: 0.6727\n",
      "Epoch 3/30\n",
      "125/125 [==============================] - 0s 3ms/step - loss: 0.6280 - accuracy: 0.6948 - val_loss: 0.5611 - val_accuracy: 0.7662\n",
      "Epoch 4/30\n",
      "125/125 [==============================] - 0s 3ms/step - loss: 0.5549 - accuracy: 0.7463 - val_loss: 0.4857 - val_accuracy: 0.7989\n",
      "Epoch 5/30\n",
      "125/125 [==============================] - 0s 3ms/step - loss: 0.4839 - accuracy: 0.7950 - val_loss: 0.4093 - val_accuracy: 0.8609\n",
      "Epoch 6/30\n",
      "125/125 [==============================] - 0s 3ms/step - loss: 0.4211 - accuracy: 0.8300 - val_loss: 0.3500 - val_accuracy: 0.8803\n",
      "Epoch 7/30\n",
      "125/125 [==============================] - 0s 3ms/step - loss: 0.3673 - accuracy: 0.8572 - val_loss: 0.3203 - val_accuracy: 0.8854\n",
      "Epoch 8/30\n",
      "125/125 [==============================] - 0s 3ms/step - loss: 0.3243 - accuracy: 0.8769 - val_loss: 0.2761 - val_accuracy: 0.9043\n",
      "Epoch 9/30\n",
      "125/125 [==============================] - 0s 3ms/step - loss: 0.2881 - accuracy: 0.8940 - val_loss: 0.2440 - val_accuracy: 0.9186\n",
      "Epoch 10/30\n",
      "125/125 [==============================] - 0s 3ms/step - loss: 0.2613 - accuracy: 0.9066 - val_loss: 0.2294 - val_accuracy: 0.9192\n",
      "Epoch 11/30\n",
      "125/125 [==============================] - 0s 3ms/step - loss: 0.2342 - accuracy: 0.9195 - val_loss: 0.1892 - val_accuracy: 0.9404\n",
      "Epoch 12/30\n",
      "125/125 [==============================] - 0s 3ms/step - loss: 0.2120 - accuracy: 0.9287 - val_loss: 0.1963 - val_accuracy: 0.9342\n",
      "Epoch 13/30\n",
      "125/125 [==============================] - 0s 3ms/step - loss: 0.1934 - accuracy: 0.9384 - val_loss: 0.1656 - val_accuracy: 0.9541\n",
      "Epoch 14/30\n",
      "125/125 [==============================] - 0s 3ms/step - loss: 0.1771 - accuracy: 0.9451 - val_loss: 0.1364 - val_accuracy: 0.9627\n",
      "Epoch 15/30\n",
      "125/125 [==============================] - 0s 3ms/step - loss: 0.1627 - accuracy: 0.9521 - val_loss: 0.1265 - val_accuracy: 0.9657\n",
      "Epoch 16/30\n",
      "125/125 [==============================] - 0s 3ms/step - loss: 0.1517 - accuracy: 0.9558 - val_loss: 0.1208 - val_accuracy: 0.9661\n",
      "Epoch 17/30\n",
      "125/125 [==============================] - 0s 2ms/step - loss: 0.1434 - accuracy: 0.9595 - val_loss: 0.1314 - val_accuracy: 0.9608\n",
      "Epoch 18/30\n",
      "125/125 [==============================] - 0s 3ms/step - loss: 0.1348 - accuracy: 0.9629 - val_loss: 0.1054 - val_accuracy: 0.9752\n",
      "Epoch 19/30\n",
      "125/125 [==============================] - 0s 2ms/step - loss: 0.1283 - accuracy: 0.9650 - val_loss: 0.1056 - val_accuracy: 0.9713\n",
      "Epoch 20/30\n",
      "125/125 [==============================] - 0s 3ms/step - loss: 0.1217 - accuracy: 0.9676 - val_loss: 0.0963 - val_accuracy: 0.9763\n",
      "Epoch 21/30\n",
      "125/125 [==============================] - 0s 3ms/step - loss: 0.1173 - accuracy: 0.9695 - val_loss: 0.0934 - val_accuracy: 0.9768\n",
      "Epoch 22/30\n",
      "125/125 [==============================] - 0s 3ms/step - loss: 0.1130 - accuracy: 0.9705 - val_loss: 0.0966 - val_accuracy: 0.9744\n",
      "Epoch 23/30\n",
      "125/125 [==============================] - 0s 3ms/step - loss: 0.1102 - accuracy: 0.9714 - val_loss: 0.0902 - val_accuracy: 0.9766\n",
      "Epoch 24/30\n",
      "125/125 [==============================] - 0s 3ms/step - loss: 0.1078 - accuracy: 0.9713 - val_loss: 0.0869 - val_accuracy: 0.9774\n",
      "Epoch 25/30\n",
      "125/125 [==============================] - 0s 3ms/step - loss: 0.1039 - accuracy: 0.9731 - val_loss: 0.1681 - val_accuracy: 0.9492\n",
      "Epoch 26/30\n",
      "125/125 [==============================] - 0s 2ms/step - loss: 0.1030 - accuracy: 0.9736 - val_loss: 0.0875 - val_accuracy: 0.9775\n"
     ]
    }
   ],
   "source": [
    "history = model.fit(X_train, y_train, epochs=30, batch_size=512, validation_data=(X_val,y_val),\n",
    "                   verbose=1, callbacks=[early_stop, modelCheckpoint])"
   ]
  },
  {
   "cell_type": "code",
   "execution_count": 21,
   "id": "civilian-thailand",
   "metadata": {},
   "outputs": [
    {
     "data": {
      "text/plain": [
       "dict_keys(['loss', 'accuracy', 'val_loss', 'val_accuracy'])"
      ]
     },
     "execution_count": 21,
     "metadata": {},
     "output_type": "execute_result"
    }
   ],
   "source": [
    "history.history.keys()"
   ]
  },
  {
   "cell_type": "code",
   "execution_count": 22,
   "id": "premium-classics",
   "metadata": {},
   "outputs": [],
   "source": [
    "history_dict = history.history\n",
    "loss_values = history_dict['loss']\n",
    "val_loss_values = history_dict['val_loss']\n",
    "accuracy_values = history_dict['accuracy']\n",
    "val_accuracy_values = history_dict['val_accuracy']"
   ]
  },
  {
   "cell_type": "code",
   "execution_count": 23,
   "id": "western-recovery",
   "metadata": {},
   "outputs": [
    {
     "data": {
      "image/png": "[encoded data removed]",
      "text/plain": [
       "<Figure size 1152x288 with 1 Axes>"
      ]
     },
     "metadata": {
      "needs_background": "light"
     },
     "output_type": "display_data"
    }
   ],
   "source": [
    "fig = plt.figure(figsize=(16,4))\n",
    "epoch = range(1,len(loss_values)+1)\n",
    "plt.plot(epoch,loss_values, '--',label='loss')\n",
    "plt.plot(epoch,val_loss_values, '--',label='val_loss')\n",
    "plt.legend()\n",
    "plt.xlabel('epoch')\n",
    "plt.ylabel('loss')\n",
    "plt.show()"
   ]
  },
  {
   "cell_type": "code",
   "execution_count": 24,
   "id": "bottom-consumption",
   "metadata": {},
   "outputs": [
    {
     "data": {
      "image/png": "[encoded data removed]",
      "text/plain": [
       "<Figure size 1152x288 with 1 Axes>"
      ]
     },
     "metadata": {
      "needs_background": "light"
     },
     "output_type": "display_data"
    }
   ],
   "source": [
    "fig = plt.figure(figsize=(16,4))\n",
    "epoch = range(1,len(loss_values)+1)\n",
    "plt.plot(epoch,accuracy_values, '--',label='accuracy')\n",
    "plt.plot(epoch,val_accuracy_values, '--',label='val_accuracy')\n",
    "plt.legend()\n",
    "plt.xlabel('epoch')\n",
    "plt.ylabel('accuracy')\n",
    "plt.show()"
   ]
  },
  {
   "cell_type": "code",
   "execution_count": 25,
   "id": "incident-twins",
   "metadata": {
    "scrolled": true
   },
   "outputs": [
    {
     "name": "stdout",
     "output_type": "stream",
     "text": [
      "625/625 [==============================] - 1s 2ms/step - loss: 0.0873 - accuracy: 0.9768\n"
     ]
    },
    {
     "data": {
      "text/plain": [
       "[0.08725867420434952, 0.9767500162124634]"
      ]
     },
     "execution_count": 25,
     "metadata": {},
     "output_type": "execute_result"
    }
   ],
   "source": [
    "model.evaluate(X_test,y_test)"
   ]
  },
  {
   "cell_type": "code",
   "execution_count": 28,
   "id": "reliable-chase",
   "metadata": {},
   "outputs": [
    {
     "data": {
      "text/plain": [
       "<keras.engine.sequential.Sequential at 0x7f8e303c1bb0>"
      ]
     },
     "execution_count": 28,
     "metadata": {},
     "output_type": "execute_result"
    }
   ],
   "source": [
    "# load model\n",
    "load_model = tf.keras.models.load_model('astronomy_model_NN.h5')\n",
    "load_model"
   ]
  },
  {
   "cell_type": "code",
   "execution_count": 29,
   "id": "revolutionary-charter",
   "metadata": {},
   "outputs": [],
   "source": [
    "predictions = load_model.predict(X_test)"
   ]
  },
  {
   "cell_type": "code",
   "execution_count": 30,
   "id": "invalid-cover",
   "metadata": {},
   "outputs": [
    {
     "data": {
      "text/plain": [
       "array([9.8570883e-01, 1.4281514e-02, 9.6694166e-06], dtype=float32)"
      ]
     },
     "execution_count": 30,
     "metadata": {},
     "output_type": "execute_result"
    }
   ],
   "source": [
    "predictions[0]"
   ]
  }
 ],
 "metadata": {
  "kernelspec": {
   "display_name": "Python 3",
   "language": "python",
   "name": "python3"
  },
  "language_info": {
   "codemirror_mode": {
    "name": "ipython",
    "version": 3
   },
   "file_extension": ".py",
   "mimetype": "text/x-python",
   "name": "python",
   "nbconvert_exporter": "python",
   "pygments_lexer": "ipython3",
   "version": "3.9.7"
  }
 },
 "nbformat": 4,
 "nbformat_minor": 5
}
