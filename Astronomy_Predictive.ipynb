{
 "cells": [
  {
   "cell_type": "markdown",
   "id": "excited-presentation",
   "metadata": {},
   "source": [
    "## Original Astronomy Dataset #\n",
    "### Stars, Galaxies and Quasars ##\n",
    "https://www.sdss.org/dr17/\n",
    "http://skyserver.sdss.org/dr17/SearchTools/sql"
   ]
  },
  {
   "cell_type": "markdown",
   "id": "common-fourth",
   "metadata": {},
   "source": [
    "# Predictive Data Analytics"
   ]
  },
  {
   "cell_type": "code",
   "execution_count": 38,
   "id": "interracial-scheduling",
   "metadata": {},
   "outputs": [],
   "source": [
    "# Import library\n",
    "import seaborn as sns\n",
    "import matplotlib.pyplot as plt\n",
    "import numpy as np\n",
    "import pandas as pd\n",
    "from PIL import Image"
   ]
  },
  {
   "cell_type": "code",
   "execution_count": 39,
   "id": "wireless-savage",
   "metadata": {},
   "outputs": [],
   "source": [
    "from sklearn.model_selection import train_test_split\n",
    "from sklearn.model_selection import cross_validate\n",
    "from sklearn.metrics import classification_report, confusion_matrix\n",
    "from sklearn.metrics import accuracy_score, precision_score, recall_score, f1_score\n",
    "from sklearn.preprocessing import MinMaxScaler, StandardScaler, LabelEncoder"
   ]
  },
  {
   "cell_type": "code",
   "execution_count": 40,
   "id": "blocked-tracy",
   "metadata": {},
   "outputs": [],
   "source": [
    "from sklearn.linear_model import LogisticRegression\n",
    "from sklearn.neighbors import KNeighborsClassifier\n",
    "from sklearn.ensemble import RandomForestClassifier,GradientBoostingClassifier,AdaBoostClassifier \n",
    "from sklearn.tree import DecisionTreeClassifier\n",
    "from sklearn.naive_bayes import GaussianNB"
   ]
  },
  {
   "cell_type": "code",
   "execution_count": 41,
   "id": "interior-commander",
   "metadata": {},
   "outputs": [
    {
     "data": {
      "text/html": [
       "<div>\n",
       "<style scoped>\n",
       "    .dataframe tbody tr th:only-of-type {\n",
       "        vertical-align: middle;\n",
       "    }\n",
       "\n",
       "    .dataframe tbody tr th {\n",
       "        vertical-align: top;\n",
       "    }\n",
       "\n",
       "    .dataframe thead th {\n",
       "        text-align: right;\n",
       "    }\n",
       "</style>\n",
       "<table border=\"1\" class=\"dataframe\">\n",
       "  <thead>\n",
       "    <tr style=\"text-align: right;\">\n",
       "      <th></th>\n",
       "      <th>objid</th>\n",
       "      <th>ra</th>\n",
       "      <th>dec</th>\n",
       "      <th>u</th>\n",
       "      <th>g</th>\n",
       "      <th>r</th>\n",
       "      <th>i</th>\n",
       "      <th>z</th>\n",
       "      <th>redshift</th>\n",
       "      <th>class</th>\n",
       "    </tr>\n",
       "  </thead>\n",
       "  <tbody>\n",
       "    <tr>\n",
       "      <th>0</th>\n",
       "      <td>1237678598097404025</td>\n",
       "      <td>0.044032</td>\n",
       "      <td>0.035457</td>\n",
       "      <td>0.393903</td>\n",
       "      <td>0.352869</td>\n",
       "      <td>0.337332</td>\n",
       "      <td>0.331551</td>\n",
       "      <td>0.330089</td>\n",
       "      <td>0.000495</td>\n",
       "      <td>STAR</td>\n",
       "    </tr>\n",
       "    <tr>\n",
       "      <th>1</th>\n",
       "      <td>1237678598076366970</td>\n",
       "      <td>0.910465</td>\n",
       "      <td>0.030273</td>\n",
       "      <td>0.387076</td>\n",
       "      <td>0.348962</td>\n",
       "      <td>0.337407</td>\n",
       "      <td>0.333596</td>\n",
       "      <td>0.332157</td>\n",
       "      <td>0.000466</td>\n",
       "      <td>STAR</td>\n",
       "    </tr>\n",
       "  </tbody>\n",
       "</table>\n",
       "</div>"
      ],
      "text/plain": [
       "                 objid        ra       dec         u         g         r  \\\n",
       "0  1237678598097404025  0.044032  0.035457  0.393903  0.352869  0.337332   \n",
       "1  1237678598076366970  0.910465  0.030273  0.387076  0.348962  0.337407   \n",
       "\n",
       "          i         z  redshift class  \n",
       "0  0.331551  0.330089  0.000495  STAR  \n",
       "1  0.333596  0.332157  0.000466  STAR  "
      ]
     },
     "execution_count": 41,
     "metadata": {},
     "output_type": "execute_result"
    }
   ],
   "source": [
    "# Load Dataset\n",
    "df=pd.read_csv('clean_Skyserver_SQL1_5_2022 11_26_53 PM.csv', low_memory=False)\n",
    "df.head(2)"
   ]
  },
  {
   "cell_type": "code",
   "execution_count": 42,
   "id": "olympic-google",
   "metadata": {},
   "outputs": [
    {
     "data": {
      "text/html": [
       "<div>\n",
       "<style scoped>\n",
       "    .dataframe tbody tr th:only-of-type {\n",
       "        vertical-align: middle;\n",
       "    }\n",
       "\n",
       "    .dataframe tbody tr th {\n",
       "        vertical-align: top;\n",
       "    }\n",
       "\n",
       "    .dataframe thead th {\n",
       "        text-align: right;\n",
       "    }\n",
       "</style>\n",
       "<table border=\"1\" class=\"dataframe\">\n",
       "  <thead>\n",
       "    <tr style=\"text-align: right;\">\n",
       "      <th></th>\n",
       "      <th>ra</th>\n",
       "      <th>dec</th>\n",
       "      <th>u</th>\n",
       "      <th>g</th>\n",
       "      <th>r</th>\n",
       "      <th>i</th>\n",
       "      <th>z</th>\n",
       "      <th>redshift</th>\n",
       "      <th>class</th>\n",
       "    </tr>\n",
       "  </thead>\n",
       "  <tbody>\n",
       "    <tr>\n",
       "      <th>0</th>\n",
       "      <td>0.044032</td>\n",
       "      <td>0.035457</td>\n",
       "      <td>0.393903</td>\n",
       "      <td>0.352869</td>\n",
       "      <td>0.337332</td>\n",
       "      <td>0.331551</td>\n",
       "      <td>0.330089</td>\n",
       "      <td>0.000495</td>\n",
       "      <td>STAR</td>\n",
       "    </tr>\n",
       "    <tr>\n",
       "      <th>1</th>\n",
       "      <td>0.910465</td>\n",
       "      <td>0.030273</td>\n",
       "      <td>0.387076</td>\n",
       "      <td>0.348962</td>\n",
       "      <td>0.337407</td>\n",
       "      <td>0.333596</td>\n",
       "      <td>0.332157</td>\n",
       "      <td>0.000466</td>\n",
       "      <td>STAR</td>\n",
       "    </tr>\n",
       "  </tbody>\n",
       "</table>\n",
       "</div>"
      ],
      "text/plain": [
       "         ra       dec         u         g         r         i         z  \\\n",
       "0  0.044032  0.035457  0.393903  0.352869  0.337332  0.331551  0.330089   \n",
       "1  0.910465  0.030273  0.387076  0.348962  0.337407  0.333596  0.332157   \n",
       "\n",
       "   redshift class  \n",
       "0  0.000495  STAR  \n",
       "1  0.000466  STAR  "
      ]
     },
     "execution_count": 42,
     "metadata": {},
     "output_type": "execute_result"
    }
   ],
   "source": [
    "df.drop(['objid'], axis=1, inplace =True)\n",
    "df.head(2)"
   ]
  },
  {
   "cell_type": "code",
   "execution_count": 43,
   "id": "amino-ground",
   "metadata": {},
   "outputs": [],
   "source": [
    "# to categorical\n",
    "df['class']=pd.Categorical(df['class'])"
   ]
  },
  {
   "cell_type": "code",
   "execution_count": 44,
   "id": "interstate-destiny",
   "metadata": {},
   "outputs": [
    {
     "data": {
      "text/html": [
       "<div>\n",
       "<style scoped>\n",
       "    .dataframe tbody tr th:only-of-type {\n",
       "        vertical-align: middle;\n",
       "    }\n",
       "\n",
       "    .dataframe tbody tr th {\n",
       "        vertical-align: top;\n",
       "    }\n",
       "\n",
       "    .dataframe thead th {\n",
       "        text-align: right;\n",
       "    }\n",
       "</style>\n",
       "<table border=\"1\" class=\"dataframe\">\n",
       "  <thead>\n",
       "    <tr style=\"text-align: right;\">\n",
       "      <th></th>\n",
       "      <th>ra</th>\n",
       "      <th>dec</th>\n",
       "      <th>u</th>\n",
       "      <th>g</th>\n",
       "      <th>r</th>\n",
       "      <th>i</th>\n",
       "      <th>z</th>\n",
       "      <th>redshift</th>\n",
       "      <th>class</th>\n",
       "      <th>label_class</th>\n",
       "    </tr>\n",
       "  </thead>\n",
       "  <tbody>\n",
       "    <tr>\n",
       "      <th>0</th>\n",
       "      <td>0.044032</td>\n",
       "      <td>0.035457</td>\n",
       "      <td>0.393903</td>\n",
       "      <td>0.352869</td>\n",
       "      <td>0.337332</td>\n",
       "      <td>0.331551</td>\n",
       "      <td>0.330089</td>\n",
       "      <td>0.000495</td>\n",
       "      <td>STAR</td>\n",
       "      <td>2</td>\n",
       "    </tr>\n",
       "    <tr>\n",
       "      <th>1</th>\n",
       "      <td>0.910465</td>\n",
       "      <td>0.030273</td>\n",
       "      <td>0.387076</td>\n",
       "      <td>0.348962</td>\n",
       "      <td>0.337407</td>\n",
       "      <td>0.333596</td>\n",
       "      <td>0.332157</td>\n",
       "      <td>0.000466</td>\n",
       "      <td>STAR</td>\n",
       "      <td>2</td>\n",
       "    </tr>\n",
       "    <tr>\n",
       "      <th>2</th>\n",
       "      <td>0.030819</td>\n",
       "      <td>0.132237</td>\n",
       "      <td>0.447280</td>\n",
       "      <td>0.406822</td>\n",
       "      <td>0.392707</td>\n",
       "      <td>0.386791</td>\n",
       "      <td>0.384882</td>\n",
       "      <td>0.000450</td>\n",
       "      <td>STAR</td>\n",
       "      <td>2</td>\n",
       "    </tr>\n",
       "  </tbody>\n",
       "</table>\n",
       "</div>"
      ],
      "text/plain": [
       "         ra       dec         u         g         r         i         z  \\\n",
       "0  0.044032  0.035457  0.393903  0.352869  0.337332  0.331551  0.330089   \n",
       "1  0.910465  0.030273  0.387076  0.348962  0.337407  0.333596  0.332157   \n",
       "2  0.030819  0.132237  0.447280  0.406822  0.392707  0.386791  0.384882   \n",
       "\n",
       "   redshift class  label_class  \n",
       "0  0.000495  STAR            2  \n",
       "1  0.000466  STAR            2  \n",
       "2  0.000450  STAR            2  "
      ]
     },
     "execution_count": 44,
     "metadata": {},
     "output_type": "execute_result"
    }
   ],
   "source": [
    "# label encoder\n",
    "label_class = LabelEncoder()\n",
    "df['label_class'] = label_class.fit_transform(df['class'])\n",
    "df.head(3)"
   ]
  },
  {
   "cell_type": "code",
   "execution_count": 45,
   "id": "bright-yeast",
   "metadata": {},
   "outputs": [],
   "source": [
    "# train_test_split\n",
    "X = df.drop(['class', 'label_class'], axis=1, inplace =False).values\n",
    "y = df['label_class'].values\n",
    "X_train, X_test, y_train, y_test = train_test_split(X, y, test_size=0.30, random_state=42)"
   ]
  },
  {
   "cell_type": "code",
   "execution_count": 46,
   "id": "statewide-athens",
   "metadata": {},
   "outputs": [
    {
     "data": {
      "text/plain": [
       "array([0, 2, 1, ..., 0, 2, 0])"
      ]
     },
     "execution_count": 46,
     "metadata": {},
     "output_type": "execute_result"
    }
   ],
   "source": [
    "y_train"
   ]
  },
  {
   "cell_type": "code",
   "execution_count": 80,
   "id": "known-model",
   "metadata": {},
   "outputs": [],
   "source": [
    "model_names=[KNeighborsClassifier(), RandomForestClassifier()]"
   ]
  },
  {
   "cell_type": "code",
   "execution_count": 81,
   "id": "prospective-edgar",
   "metadata": {},
   "outputs": [],
   "source": [
    "acc=[]\n",
    "eval_acc={}\n",
    "for class_model in model_names:   \n",
    "    classification_model=model_names[0]\n",
    "    classification_model.fit(X_train,y_train)\n",
    "    pred=classification_model.predict(X_test)\n",
    "    acc.append(accuracy_score(pred,y_test))\n",
    "    eval_acc={'Modelling Algorithm':model_names,'Accuracy':acc}"
   ]
  },
  {
   "cell_type": "code",
   "execution_count": 82,
   "id": "minus-anatomy",
   "metadata": {},
   "outputs": [
    {
     "data": {
      "text/plain": [
       "{'Modelling Algorithm': [KNeighborsClassifier(), RandomForestClassifier()],\n",
       " 'Accuracy': [0.901, 0.901]}"
      ]
     },
     "execution_count": 82,
     "metadata": {},
     "output_type": "execute_result"
    }
   ],
   "source": [
    "eval_acc"
   ]
  },
  {
   "cell_type": "code",
   "execution_count": null,
   "id": "chemical-talent",
   "metadata": {},
   "outputs": [],
   "source": []
  }
 ],
 "metadata": {
  "kernelspec": {
   "display_name": "Python 3",
   "language": "python",
   "name": "python3"
  },
  "language_info": {
   "codemirror_mode": {
    "name": "ipython",
    "version": 3
   },
   "file_extension": ".py",
   "mimetype": "text/x-python",
   "name": "python",
   "nbconvert_exporter": "python",
   "pygments_lexer": "ipython3",
   "version": "3.9.7"
  }
 },
 "nbformat": 4,
 "nbformat_minor": 5
}
