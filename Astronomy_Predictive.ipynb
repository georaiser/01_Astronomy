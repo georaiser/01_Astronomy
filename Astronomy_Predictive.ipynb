{
 "cells": [
  {
   "cell_type": "markdown",
   "id": "excited-presentation",
   "metadata": {},
   "source": [
    "## Original Astronomy Dataset #\n",
    "### Stars, Galaxies and Quasars ##\n",
    "https://www.sdss.org/dr17/\n",
    "http://skyserver.sdss.org/dr17/SearchTools/sql"
   ]
  },
  {
   "cell_type": "markdown",
   "id": "common-fourth",
   "metadata": {},
   "source": [
    "# Predictive Data Analytics"
   ]
  },
  {
   "cell_type": "code",
   "execution_count": 46,
   "id": "interracial-scheduling",
   "metadata": {},
   "outputs": [],
   "source": [
    "# Import library\n",
    "import seaborn as sns\n",
    "import matplotlib.pyplot as plt\n",
    "import numpy as np\n",
    "import pandas as pd\n",
    "from PIL import Image"
   ]
  },
  {
   "cell_type": "code",
   "execution_count": 47,
   "id": "environmental-superior",
   "metadata": {},
   "outputs": [],
   "source": [
    "import warnings\n",
    "warnings.filterwarnings(\"ignore\")"
   ]
  },
  {
   "cell_type": "code",
   "execution_count": 48,
   "id": "smaller-tucson",
   "metadata": {},
   "outputs": [],
   "source": [
    "from sklearn.model_selection import train_test_split\n",
    "from sklearn.model_selection import cross_val_score\n",
    "from sklearn.model_selection import cross_validate\n",
    "from sklearn.metrics import classification_report, confusion_matrix\n",
    "from sklearn.metrics import accuracy_score, precision_score, recall_score, f1_score\n",
    "from sklearn.preprocessing import MinMaxScaler, StandardScaler, LabelEncoder\n",
    "from sklearn.model_selection import RandomizedSearchCV\n",
    "from sklearn.model_selection import GridSearchCV\n",
    "import joblib"
   ]
  },
  {
   "cell_type": "code",
   "execution_count": 49,
   "id": "saved-hughes",
   "metadata": {},
   "outputs": [],
   "source": [
    "from sklearn.neighbors import KNeighborsClassifier\n",
    "from sklearn.ensemble import RandomForestClassifier,GradientBoostingClassifier \n",
    "from sklearn.tree import DecisionTreeClassifier\n",
    "from sklearn.naive_bayes import GaussianNB, BernoulliNB\n",
    "from sklearn.svm import SVC"
   ]
  },
  {
   "cell_type": "code",
   "execution_count": 50,
   "id": "functioning-rehabilitation",
   "metadata": {},
   "outputs": [],
   "source": [
    "import xgboost as xgb\n",
    "import catboost as ctb"
   ]
  },
  {
   "cell_type": "code",
   "execution_count": 51,
   "id": "interior-commander",
   "metadata": {},
   "outputs": [
    {
     "data": {
      "text/html": [
       "<div>\n",
       "<style scoped>\n",
       "    .dataframe tbody tr th:only-of-type {\n",
       "        vertical-align: middle;\n",
       "    }\n",
       "\n",
       "    .dataframe tbody tr th {\n",
       "        vertical-align: top;\n",
       "    }\n",
       "\n",
       "    .dataframe thead th {\n",
       "        text-align: right;\n",
       "    }\n",
       "</style>\n",
       "<table border=\"1\" class=\"dataframe\">\n",
       "  <thead>\n",
       "    <tr style=\"text-align: right;\">\n",
       "      <th></th>\n",
       "      <th>objid</th>\n",
       "      <th>ra</th>\n",
       "      <th>dec</th>\n",
       "      <th>u</th>\n",
       "      <th>g</th>\n",
       "      <th>r</th>\n",
       "      <th>i</th>\n",
       "      <th>z</th>\n",
       "      <th>redshift</th>\n",
       "      <th>class</th>\n",
       "    </tr>\n",
       "  </thead>\n",
       "  <tbody>\n",
       "    <tr>\n",
       "      <th>0</th>\n",
       "      <td>1237678598097404025</td>\n",
       "      <td>0.044032</td>\n",
       "      <td>0.035457</td>\n",
       "      <td>0.393903</td>\n",
       "      <td>0.352869</td>\n",
       "      <td>0.337332</td>\n",
       "      <td>0.331551</td>\n",
       "      <td>0.330089</td>\n",
       "      <td>0.000495</td>\n",
       "      <td>STAR</td>\n",
       "    </tr>\n",
       "    <tr>\n",
       "      <th>1</th>\n",
       "      <td>1237678598076366970</td>\n",
       "      <td>0.910465</td>\n",
       "      <td>0.030273</td>\n",
       "      <td>0.387076</td>\n",
       "      <td>0.348962</td>\n",
       "      <td>0.337407</td>\n",
       "      <td>0.333596</td>\n",
       "      <td>0.332157</td>\n",
       "      <td>0.000466</td>\n",
       "      <td>STAR</td>\n",
       "    </tr>\n",
       "  </tbody>\n",
       "</table>\n",
       "</div>"
      ],
      "text/plain": [
       "                 objid        ra       dec         u         g         r  \\\n",
       "0  1237678598097404025  0.044032  0.035457  0.393903  0.352869  0.337332   \n",
       "1  1237678598076366970  0.910465  0.030273  0.387076  0.348962  0.337407   \n",
       "\n",
       "          i         z  redshift class  \n",
       "0  0.331551  0.330089  0.000495  STAR  \n",
       "1  0.333596  0.332157  0.000466  STAR  "
      ]
     },
     "execution_count": 51,
     "metadata": {},
     "output_type": "execute_result"
    }
   ],
   "source": [
    "# Load Dataset\n",
    "df=pd.read_csv('clean_Skyserver_SQL1_5_2022 11_26_53 PM.csv', low_memory=False)\n",
    "df.head(2)"
   ]
  },
  {
   "cell_type": "code",
   "execution_count": 52,
   "id": "olympic-google",
   "metadata": {},
   "outputs": [
    {
     "data": {
      "text/html": [
       "<div>\n",
       "<style scoped>\n",
       "    .dataframe tbody tr th:only-of-type {\n",
       "        vertical-align: middle;\n",
       "    }\n",
       "\n",
       "    .dataframe tbody tr th {\n",
       "        vertical-align: top;\n",
       "    }\n",
       "\n",
       "    .dataframe thead th {\n",
       "        text-align: right;\n",
       "    }\n",
       "</style>\n",
       "<table border=\"1\" class=\"dataframe\">\n",
       "  <thead>\n",
       "    <tr style=\"text-align: right;\">\n",
       "      <th></th>\n",
       "      <th>ra</th>\n",
       "      <th>dec</th>\n",
       "      <th>u</th>\n",
       "      <th>g</th>\n",
       "      <th>r</th>\n",
       "      <th>i</th>\n",
       "      <th>z</th>\n",
       "      <th>redshift</th>\n",
       "      <th>class</th>\n",
       "    </tr>\n",
       "  </thead>\n",
       "  <tbody>\n",
       "    <tr>\n",
       "      <th>0</th>\n",
       "      <td>0.044032</td>\n",
       "      <td>0.035457</td>\n",
       "      <td>0.393903</td>\n",
       "      <td>0.352869</td>\n",
       "      <td>0.337332</td>\n",
       "      <td>0.331551</td>\n",
       "      <td>0.330089</td>\n",
       "      <td>0.000495</td>\n",
       "      <td>STAR</td>\n",
       "    </tr>\n",
       "    <tr>\n",
       "      <th>1</th>\n",
       "      <td>0.910465</td>\n",
       "      <td>0.030273</td>\n",
       "      <td>0.387076</td>\n",
       "      <td>0.348962</td>\n",
       "      <td>0.337407</td>\n",
       "      <td>0.333596</td>\n",
       "      <td>0.332157</td>\n",
       "      <td>0.000466</td>\n",
       "      <td>STAR</td>\n",
       "    </tr>\n",
       "  </tbody>\n",
       "</table>\n",
       "</div>"
      ],
      "text/plain": [
       "         ra       dec         u         g         r         i         z  \\\n",
       "0  0.044032  0.035457  0.393903  0.352869  0.337332  0.331551  0.330089   \n",
       "1  0.910465  0.030273  0.387076  0.348962  0.337407  0.333596  0.332157   \n",
       "\n",
       "   redshift class  \n",
       "0  0.000495  STAR  \n",
       "1  0.000466  STAR  "
      ]
     },
     "execution_count": 52,
     "metadata": {},
     "output_type": "execute_result"
    }
   ],
   "source": [
    "df.drop(['objid'], axis=1, inplace =True)\n",
    "df.head(2)"
   ]
  },
  {
   "cell_type": "code",
   "execution_count": 53,
   "id": "polyphonic-speech",
   "metadata": {},
   "outputs": [],
   "source": [
    "# categorical type - pandas\n",
    "df['class']=pd.Categorical(df['class'])"
   ]
  },
  {
   "cell_type": "code",
   "execution_count": 54,
   "id": "preceding-emission",
   "metadata": {},
   "outputs": [
    {
     "data": {
      "text/html": [
       "<div>\n",
       "<style scoped>\n",
       "    .dataframe tbody tr th:only-of-type {\n",
       "        vertical-align: middle;\n",
       "    }\n",
       "\n",
       "    .dataframe tbody tr th {\n",
       "        vertical-align: top;\n",
       "    }\n",
       "\n",
       "    .dataframe thead th {\n",
       "        text-align: right;\n",
       "    }\n",
       "</style>\n",
       "<table border=\"1\" class=\"dataframe\">\n",
       "  <thead>\n",
       "    <tr style=\"text-align: right;\">\n",
       "      <th></th>\n",
       "      <th>ra</th>\n",
       "      <th>dec</th>\n",
       "      <th>u</th>\n",
       "      <th>g</th>\n",
       "      <th>r</th>\n",
       "      <th>i</th>\n",
       "      <th>z</th>\n",
       "      <th>redshift</th>\n",
       "      <th>class</th>\n",
       "      <th>label_class</th>\n",
       "    </tr>\n",
       "  </thead>\n",
       "  <tbody>\n",
       "    <tr>\n",
       "      <th>0</th>\n",
       "      <td>0.044032</td>\n",
       "      <td>0.035457</td>\n",
       "      <td>0.393903</td>\n",
       "      <td>0.352869</td>\n",
       "      <td>0.337332</td>\n",
       "      <td>0.331551</td>\n",
       "      <td>0.330089</td>\n",
       "      <td>0.000495</td>\n",
       "      <td>STAR</td>\n",
       "      <td>2</td>\n",
       "    </tr>\n",
       "    <tr>\n",
       "      <th>1</th>\n",
       "      <td>0.910465</td>\n",
       "      <td>0.030273</td>\n",
       "      <td>0.387076</td>\n",
       "      <td>0.348962</td>\n",
       "      <td>0.337407</td>\n",
       "      <td>0.333596</td>\n",
       "      <td>0.332157</td>\n",
       "      <td>0.000466</td>\n",
       "      <td>STAR</td>\n",
       "      <td>2</td>\n",
       "    </tr>\n",
       "    <tr>\n",
       "      <th>2</th>\n",
       "      <td>0.030819</td>\n",
       "      <td>0.132237</td>\n",
       "      <td>0.447280</td>\n",
       "      <td>0.406822</td>\n",
       "      <td>0.392707</td>\n",
       "      <td>0.386791</td>\n",
       "      <td>0.384882</td>\n",
       "      <td>0.000450</td>\n",
       "      <td>STAR</td>\n",
       "      <td>2</td>\n",
       "    </tr>\n",
       "  </tbody>\n",
       "</table>\n",
       "</div>"
      ],
      "text/plain": [
       "         ra       dec         u         g         r         i         z  \\\n",
       "0  0.044032  0.035457  0.393903  0.352869  0.337332  0.331551  0.330089   \n",
       "1  0.910465  0.030273  0.387076  0.348962  0.337407  0.333596  0.332157   \n",
       "2  0.030819  0.132237  0.447280  0.406822  0.392707  0.386791  0.384882   \n",
       "\n",
       "   redshift class  label_class  \n",
       "0  0.000495  STAR            2  \n",
       "1  0.000466  STAR            2  \n",
       "2  0.000450  STAR            2  "
      ]
     },
     "execution_count": 54,
     "metadata": {},
     "output_type": "execute_result"
    }
   ],
   "source": [
    "# label encoder\n",
    "label_class = LabelEncoder()\n",
    "df['label_class'] = label_class.fit_transform(df['class'])\n",
    "df.head(3)"
   ]
  },
  {
   "cell_type": "code",
   "execution_count": 55,
   "id": "bright-yeast",
   "metadata": {},
   "outputs": [],
   "source": [
    "# train_test_split\n",
    "X = df.drop(['class', 'label_class'], axis=1, inplace =False).values\n",
    "y = df['label_class'].values\n",
    "X_train, X_test, y_train, y_test = train_test_split(X, y, test_size=0.30, random_state=42)"
   ]
  },
  {
   "cell_type": "code",
   "execution_count": 56,
   "id": "fifty-stevens",
   "metadata": {},
   "outputs": [
    {
     "data": {
      "text/plain": [
       "array([0, 2, 1, ..., 0, 2, 0])"
      ]
     },
     "execution_count": 56,
     "metadata": {},
     "output_type": "execute_result"
    }
   ],
   "source": [
    "y_train"
   ]
  },
  {
   "cell_type": "code",
   "execution_count": 57,
   "id": "backed-ozone",
   "metadata": {},
   "outputs": [],
   "source": [
    "model_names=[KNeighborsClassifier(n_neighbors=5,weights=\"uniform\"),\n",
    "             RandomForestClassifier(),\n",
    "             GradientBoostingClassifier(),\n",
    "             DecisionTreeClassifier(),\n",
    "             SVC(kernel='rbf'),\n",
    "             GaussianNB(),\n",
    "             BernoulliNB(),\n",
    "             ctb.CatBoostClassifier(iterations=1000, verbose=250, early_stopping_rounds=100),\n",
    "             xgb.XGBClassifier(objective='binary:logistic', n_estimators=10, seed=123)\n",
    "            ]"
   ]
  },
  {
   "cell_type": "code",
   "execution_count": 58,
   "id": "decent-relief",
   "metadata": {},
   "outputs": [
    {
     "name": "stdout",
     "output_type": "stream",
     "text": [
      "KNeighborsClassifier()\n",
      "RandomForestClassifier()\n",
      "GradientBoostingClassifier()\n",
      "DecisionTreeClassifier()\n",
      "SVC()\n",
      "GaussianNB()\n",
      "BernoulliNB()\n",
      "<catboost.core.CatBoostClassifier object at 0x7faddd83a130>\n",
      "Learning rate set to 0.098271\n",
      "0:\tlearn: 0.9223533\ttotal: 22ms\tremaining: 22s\n",
      "250:\tlearn: 0.0340557\ttotal: 2.61s\tremaining: 7.8s\n",
      "500:\tlearn: 0.0278842\ttotal: 5.05s\tremaining: 5.03s\n",
      "750:\tlearn: 0.0243910\ttotal: 7.55s\tremaining: 2.5s\n",
      "999:\tlearn: 0.0214218\ttotal: 10.2s\tremaining: 0us\n",
      "XGBClassifier(base_score=None, booster=None, colsample_bylevel=None,\n",
      "              colsample_bynode=None, colsample_bytree=None,\n",
      "              enable_categorical=False, gamma=None, gpu_id=None,\n",
      "              importance_type=None, interaction_constraints=None,\n",
      "              learning_rate=None, max_delta_step=None, max_depth=None,\n",
      "              min_child_weight=None, missing=nan, monotone_constraints=None,\n",
      "              n_estimators=10, n_jobs=None, num_parallel_tree=None,\n",
      "              predictor=None, random_state=None, reg_alpha=None,\n",
      "              reg_lambda=None, scale_pos_weight=None, seed=123, subsample=None,\n",
      "              tree_method=None, validate_parameters=None, verbosity=None)\n",
      "[23:47:13] WARNING: ../src/learner.cc:1115: Starting in XGBoost 1.3.0, the default evaluation metric used with the objective 'multi:softprob' was changed from 'merror' to 'mlogloss'. Explicitly set eval_metric if you'd like to restore the old behavior.\n"
     ]
    }
   ],
   "source": [
    "acc=[]\n",
    "eval_acc={}\n",
    "for classification_model in model_names:   \n",
    "    print(classification_model)\n",
    "    classification_model.fit(X_train,y_train)\n",
    "    pred=classification_model.predict(X_test)\n",
    "    acc.append(accuracy_score(pred,y_test))\n",
    "eval_acc={'Modelling Algorithm':model_names,'Accuracy':acc}"
   ]
  },
  {
   "cell_type": "code",
   "execution_count": 59,
   "id": "brazilian-dietary",
   "metadata": {},
   "outputs": [
    {
     "data": {
      "text/html": [
       "<div>\n",
       "<style scoped>\n",
       "    .dataframe tbody tr th:only-of-type {\n",
       "        vertical-align: middle;\n",
       "    }\n",
       "\n",
       "    .dataframe tbody tr th {\n",
       "        vertical-align: top;\n",
       "    }\n",
       "\n",
       "    .dataframe thead th {\n",
       "        text-align: right;\n",
       "    }\n",
       "</style>\n",
       "<table border=\"1\" class=\"dataframe\">\n",
       "  <thead>\n",
       "    <tr style=\"text-align: right;\">\n",
       "      <th></th>\n",
       "      <th>Modelling Algorithm</th>\n",
       "      <th>Accuracy</th>\n",
       "    </tr>\n",
       "  </thead>\n",
       "  <tbody>\n",
       "    <tr>\n",
       "      <th>0</th>\n",
       "      <td>KNeighborsClassifier()</td>\n",
       "      <td>0.901000</td>\n",
       "    </tr>\n",
       "    <tr>\n",
       "      <th>1</th>\n",
       "      <td>(DecisionTreeClassifier(max_features='auto', r...</td>\n",
       "      <td>0.989300</td>\n",
       "    </tr>\n",
       "    <tr>\n",
       "      <th>2</th>\n",
       "      <td>([DecisionTreeRegressor(criterion='friedman_ms...</td>\n",
       "      <td>0.986167</td>\n",
       "    </tr>\n",
       "    <tr>\n",
       "      <th>3</th>\n",
       "      <td>DecisionTreeClassifier()</td>\n",
       "      <td>0.984667</td>\n",
       "    </tr>\n",
       "    <tr>\n",
       "      <th>4</th>\n",
       "      <td>SVC()</td>\n",
       "      <td>0.961033</td>\n",
       "    </tr>\n",
       "    <tr>\n",
       "      <th>5</th>\n",
       "      <td>GaussianNB()</td>\n",
       "      <td>0.973967</td>\n",
       "    </tr>\n",
       "    <tr>\n",
       "      <th>6</th>\n",
       "      <td>BernoulliNB()</td>\n",
       "      <td>0.517033</td>\n",
       "    </tr>\n",
       "    <tr>\n",
       "      <th>7</th>\n",
       "      <td>&lt;catboost.core.CatBoostClassifier object at 0x...</td>\n",
       "      <td>0.988900</td>\n",
       "    </tr>\n",
       "    <tr>\n",
       "      <th>8</th>\n",
       "      <td>XGBClassifier(base_score=0.5, booster='gbtree'...</td>\n",
       "      <td>0.991133</td>\n",
       "    </tr>\n",
       "  </tbody>\n",
       "</table>\n",
       "</div>"
      ],
      "text/plain": [
       "                                 Modelling Algorithm  Accuracy\n",
       "0                             KNeighborsClassifier()  0.901000\n",
       "1  (DecisionTreeClassifier(max_features='auto', r...  0.989300\n",
       "2  ([DecisionTreeRegressor(criterion='friedman_ms...  0.986167\n",
       "3                           DecisionTreeClassifier()  0.984667\n",
       "4                                              SVC()  0.961033\n",
       "5                                       GaussianNB()  0.973967\n",
       "6                                      BernoulliNB()  0.517033\n",
       "7  <catboost.core.CatBoostClassifier object at 0x...  0.988900\n",
       "8  XGBClassifier(base_score=0.5, booster='gbtree'...  0.991133"
      ]
     },
     "execution_count": 59,
     "metadata": {},
     "output_type": "execute_result"
    }
   ],
   "source": [
    "eval_acc={'Modelling Algorithm':model_names,'Accuracy':acc}\n",
    "pd.DataFrame(eval_acc)"
   ]
  },
  {
   "cell_type": "code",
   "execution_count": 61,
   "id": "bottom-picture",
   "metadata": {},
   "outputs": [],
   "source": [
    "# best model\n",
    "# XGBClassifier 0.991133"
   ]
  },
  {
   "cell_type": "code",
   "execution_count": 14,
   "id": "nasty-posting",
   "metadata": {
    "scrolled": true
   },
   "outputs": [
    {
     "name": "stdout",
     "output_type": "stream",
     "text": [
      "RandomForestClassifier(max_depth=12, n_estimators=10)\n",
      "{'n_estimators': 10, 'max_depth': 12, 'criterion': 'gini'}\n",
      "0\n"
     ]
    }
   ],
   "source": [
    "# search best parameters\n",
    "reg = RandomForestClassifier()\n",
    "\n",
    "parametros = {\n",
    "    'n_estimators' : range(4,16),\n",
    "    'criterion' : ['gini'],\n",
    "    'max_depth' : range(2,16)\n",
    "}\n",
    "\n",
    "rand_est = RandomizedSearchCV(reg, parametros , n_iter=10, cv=3, scoring='neg_mean_absolute_error').fit(X_train,y_train)\n",
    "\n",
    "print(rand_est.best_estimator_)\n",
    "print(rand_est.best_params_)\n",
    "print(rand_est.predict(X_test)[0])"
   ]
  },
  {
   "cell_type": "code",
   "execution_count": 15,
   "id": "interim-demonstration",
   "metadata": {},
   "outputs": [],
   "source": [
    "# search best parameters\n",
    "classifiers = {'SVC' : SVC(),\n",
    "       'GRADIENT' : GradientBoostingClassifier(),\n",
    "      'RandomForest':RandomForestClassifier()}\n",
    "\n",
    "params = {\n",
    "    'SVC' : {'kernel' : ['linear', 'poly', 'rbf'],\n",
    "             'gamma' : ['auto', 'scale'],\n",
    "             'C' : [1,5,10]},\n",
    "    'GRADIENT' : {'loss' : ['deviance'],\n",
    "                  'learning_rate' : [0.01, 0.05, 0.1]},\n",
    "    'RandomForest' : {'n_estimators' : range(4,16),\n",
    "                      'criterion' : ['gini'],\n",
    "                      'max_depth' : range(2,16)}\n",
    "    }"
   ]
  },
  {
   "cell_type": "code",
   "execution_count": 16,
   "id": "logical-ferry",
   "metadata": {},
   "outputs": [],
   "source": [
    "best_score = 999\n",
    "best_model = None\n",
    "\n",
    "for name, cls in classifiers.items():\n",
    "\n",
    "    grid_search = GridSearchCV(cls, params[name], cv=3).fit(X_train, y_train)\n",
    "    score = np.abs(grid_search.best_score_)\n",
    "\n",
    "    if score < best_score:\n",
    "        best_score = score\n",
    "        best_model = grid_search.best_estimator_"
   ]
  },
  {
   "cell_type": "code",
   "execution_count": 17,
   "id": "monetary-nurse",
   "metadata": {},
   "outputs": [
    {
     "name": "stdout",
     "output_type": "stream",
     "text": [
      "SVC(C=10, kernel='poly')\n",
      "0.9844142865242391\n"
     ]
    }
   ],
   "source": [
    "print(best_model)\n",
    "print(best_score)"
   ]
  },
  {
   "cell_type": "code",
   "execution_count": 18,
   "id": "vital-hormone",
   "metadata": {},
   "outputs": [
    {
     "data": {
      "text/plain": [
       "['best_model.pkl']"
      ]
     },
     "execution_count": 18,
     "metadata": {},
     "output_type": "execute_result"
    }
   ],
   "source": [
    "joblib.dump(best_model, 'best_model.pkl')"
   ]
  },
  {
   "cell_type": "code",
   "execution_count": 22,
   "id": "pleased-running",
   "metadata": {},
   "outputs": [
    {
     "data": {
      "text/plain": [
       "array([0, 1, 0, ..., 0, 2, 0])"
      ]
     },
     "execution_count": 22,
     "metadata": {},
     "output_type": "execute_result"
    }
   ],
   "source": [
    "# prediction with best model\n",
    "pred=best_model.predict(X_test)\n",
    "pred"
   ]
  },
  {
   "cell_type": "code",
   "execution_count": 23,
   "id": "mounted-surrey",
   "metadata": {},
   "outputs": [
    {
     "data": {
      "text/plain": [
       "0.9843666666666666"
      ]
     },
     "execution_count": 23,
     "metadata": {},
     "output_type": "execute_result"
    }
   ],
   "source": [
    "accuracy_score(pred,y_test)"
   ]
  }
 ],
 "metadata": {
  "kernelspec": {
   "display_name": "Python 3 (ipykernel)",
   "language": "python",
   "name": "python3"
  },
  "language_info": {
   "codemirror_mode": {
    "name": "ipython",
    "version": 3
   },
   "file_extension": ".py",
   "mimetype": "text/x-python",
   "name": "python",
   "nbconvert_exporter": "python",
   "pygments_lexer": "ipython3",
   "version": "3.9.7"
  }
 },
 "nbformat": 4,
 "nbformat_minor": 5
}
