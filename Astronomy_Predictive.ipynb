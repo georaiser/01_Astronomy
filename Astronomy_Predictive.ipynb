{
 "cells": [
  {
   "cell_type": "markdown",
   "id": "excited-presentation",
   "metadata": {},
   "source": [
    "## Original Astronomy Dataset #\n",
    "### Stars, Galaxies and Quasars ##\n",
    "https://www.sdss.org/dr17/\n",
    "http://skyserver.sdss.org/dr17/SearchTools/sql"
   ]
  },
  {
   "cell_type": "markdown",
   "id": "common-fourth",
   "metadata": {},
   "source": [
    "# Predictive Data Analytics"
   ]
  },
  {
   "cell_type": "code",
   "execution_count": 6,
   "id": "interracial-scheduling",
   "metadata": {},
   "outputs": [],
   "source": [
    "# Import library\n",
    "import seaborn as sns\n",
    "import matplotlib.pyplot as plt\n",
    "import numpy as np\n",
    "import pandas as pd\n",
    "from PIL import Image"
   ]
  },
  {
   "cell_type": "code",
   "execution_count": 7,
   "id": "interior-commander",
   "metadata": {},
   "outputs": [
    {
     "data": {
      "text/html": [
       "<div>\n",
       "<style scoped>\n",
       "    .dataframe tbody tr th:only-of-type {\n",
       "        vertical-align: middle;\n",
       "    }\n",
       "\n",
       "    .dataframe tbody tr th {\n",
       "        vertical-align: top;\n",
       "    }\n",
       "\n",
       "    .dataframe thead th {\n",
       "        text-align: right;\n",
       "    }\n",
       "</style>\n",
       "<table border=\"1\" class=\"dataframe\">\n",
       "  <thead>\n",
       "    <tr style=\"text-align: right;\">\n",
       "      <th></th>\n",
       "      <th>objid</th>\n",
       "      <th>ra</th>\n",
       "      <th>dec</th>\n",
       "      <th>u</th>\n",
       "      <th>g</th>\n",
       "      <th>r</th>\n",
       "      <th>i</th>\n",
       "      <th>z</th>\n",
       "      <th>redshift</th>\n",
       "      <th>class</th>\n",
       "    </tr>\n",
       "  </thead>\n",
       "  <tbody>\n",
       "    <tr>\n",
       "      <th>0</th>\n",
       "      <td>1237678598097404025</td>\n",
       "      <td>0.044032</td>\n",
       "      <td>0.035457</td>\n",
       "      <td>0.393903</td>\n",
       "      <td>0.352869</td>\n",
       "      <td>0.337332</td>\n",
       "      <td>0.331551</td>\n",
       "      <td>0.330089</td>\n",
       "      <td>0.000495</td>\n",
       "      <td>STAR</td>\n",
       "    </tr>\n",
       "    <tr>\n",
       "      <th>1</th>\n",
       "      <td>1237678598076366970</td>\n",
       "      <td>0.910465</td>\n",
       "      <td>0.030273</td>\n",
       "      <td>0.387076</td>\n",
       "      <td>0.348962</td>\n",
       "      <td>0.337407</td>\n",
       "      <td>0.333596</td>\n",
       "      <td>0.332157</td>\n",
       "      <td>0.000466</td>\n",
       "      <td>STAR</td>\n",
       "    </tr>\n",
       "    <tr>\n",
       "      <th>2</th>\n",
       "      <td>1237678858476388409</td>\n",
       "      <td>0.030819</td>\n",
       "      <td>0.132237</td>\n",
       "      <td>0.447280</td>\n",
       "      <td>0.406822</td>\n",
       "      <td>0.392707</td>\n",
       "      <td>0.386791</td>\n",
       "      <td>0.384882</td>\n",
       "      <td>0.000450</td>\n",
       "      <td>STAR</td>\n",
       "    </tr>\n",
       "  </tbody>\n",
       "</table>\n",
       "</div>"
      ],
      "text/plain": [
       "                 objid        ra       dec         u         g         r  \\\n",
       "0  1237678598097404025  0.044032  0.035457  0.393903  0.352869  0.337332   \n",
       "1  1237678598076366970  0.910465  0.030273  0.387076  0.348962  0.337407   \n",
       "2  1237678858476388409  0.030819  0.132237  0.447280  0.406822  0.392707   \n",
       "\n",
       "          i         z  redshift class  \n",
       "0  0.331551  0.330089  0.000495  STAR  \n",
       "1  0.333596  0.332157  0.000466  STAR  \n",
       "2  0.386791  0.384882  0.000450  STAR  "
      ]
     },
     "execution_count": 7,
     "metadata": {},
     "output_type": "execute_result"
    }
   ],
   "source": [
    "# Load Dataset\n",
    "df=pd.read_csv('clean_Skyserver_SQL1_5_2022 11_26_53 PM.csv', low_memory=False)\n",
    "df.head(2)"
   ]
  },
  {
   "cell_type": "code",
   "execution_count": 8,
   "id": "olympic-google",
   "metadata": {},
   "outputs": [
    {
     "data": {
      "text/html": [
       "<div>\n",
       "<style scoped>\n",
       "    .dataframe tbody tr th:only-of-type {\n",
       "        vertical-align: middle;\n",
       "    }\n",
       "\n",
       "    .dataframe tbody tr th {\n",
       "        vertical-align: top;\n",
       "    }\n",
       "\n",
       "    .dataframe thead th {\n",
       "        text-align: right;\n",
       "    }\n",
       "</style>\n",
       "<table border=\"1\" class=\"dataframe\">\n",
       "  <thead>\n",
       "    <tr style=\"text-align: right;\">\n",
       "      <th></th>\n",
       "      <th>ra</th>\n",
       "      <th>dec</th>\n",
       "      <th>u</th>\n",
       "      <th>g</th>\n",
       "      <th>r</th>\n",
       "      <th>i</th>\n",
       "      <th>z</th>\n",
       "      <th>redshift</th>\n",
       "      <th>class</th>\n",
       "    </tr>\n",
       "  </thead>\n",
       "  <tbody>\n",
       "    <tr>\n",
       "      <th>0</th>\n",
       "      <td>0.044032</td>\n",
       "      <td>0.035457</td>\n",
       "      <td>0.393903</td>\n",
       "      <td>0.352869</td>\n",
       "      <td>0.337332</td>\n",
       "      <td>0.331551</td>\n",
       "      <td>0.330089</td>\n",
       "      <td>0.000495</td>\n",
       "      <td>STAR</td>\n",
       "    </tr>\n",
       "    <tr>\n",
       "      <th>1</th>\n",
       "      <td>0.910465</td>\n",
       "      <td>0.030273</td>\n",
       "      <td>0.387076</td>\n",
       "      <td>0.348962</td>\n",
       "      <td>0.337407</td>\n",
       "      <td>0.333596</td>\n",
       "      <td>0.332157</td>\n",
       "      <td>0.000466</td>\n",
       "      <td>STAR</td>\n",
       "    </tr>\n",
       "  </tbody>\n",
       "</table>\n",
       "</div>"
      ],
      "text/plain": [
       "         ra       dec         u         g         r         i         z  \\\n",
       "0  0.044032  0.035457  0.393903  0.352869  0.337332  0.331551  0.330089   \n",
       "1  0.910465  0.030273  0.387076  0.348962  0.337407  0.333596  0.332157   \n",
       "\n",
       "   redshift class  \n",
       "0  0.000495  STAR  \n",
       "1  0.000466  STAR  "
      ]
     },
     "execution_count": 8,
     "metadata": {},
     "output_type": "execute_result"
    }
   ],
   "source": [
    "df.drop(['objid'], axis=1, inplace =True)\n",
    "df.head(2)"
   ]
  },
  {
   "cell_type": "code",
   "execution_count": null,
   "id": "bright-yeast",
   "metadata": {},
   "outputs": [],
   "source": []
  }
 ],
 "metadata": {
  "kernelspec": {
   "display_name": "Python 3",
   "language": "python",
   "name": "python3"
  },
  "language_info": {
   "codemirror_mode": {
    "name": "ipython",
    "version": 3
   },
   "file_extension": ".py",
   "mimetype": "text/x-python",
   "name": "python",
   "nbconvert_exporter": "python",
   "pygments_lexer": "ipython3",
   "version": "3.9.7"
  }
 },
 "nbformat": 4,
 "nbformat_minor": 5
}
